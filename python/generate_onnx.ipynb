{
 "cells": [
  {
   "cell_type": "code",
   "execution_count": 7,
   "metadata": {},
   "outputs": [],
   "source": [
    "import torch\n",
    "import torch.nn as nn\n",
    "import torch.onnx"
   ]
  },
  {
   "cell_type": "markdown",
   "metadata": {},
   "source": [
    "# Define model"
   ]
  },
  {
   "cell_type": "code",
   "execution_count": 8,
   "metadata": {},
   "outputs": [],
   "source": [
    "# Define a simple neural network model\n",
    "class SimpleModel(nn.Module):\n",
    "    def __init__(self, input_size, hidden_size, output_size):\n",
    "        super(SimpleModel, self).__init__()\n",
    "        self.fc1 = nn.Linear(input_size, hidden_size)\n",
    "        self.gelu = nn.GELU()\n",
    "        self.fc2 = nn.Linear(hidden_size, output_size)\n",
    "\n",
    "    def forward(self, x):\n",
    "        x = self.fc1(x)\n",
    "        x = self.gelu(x)\n",
    "        x = self.fc2(x)\n",
    "        return x"
   ]
  },
  {
   "cell_type": "code",
   "execution_count": 9,
   "metadata": {},
   "outputs": [],
   "source": [
    "# Define the input size, hidden layer size, and output size\n",
    "input_size = 10\n",
    "hidden_size = 5\n",
    "output_size = 1"
   ]
  },
  {
   "cell_type": "code",
   "execution_count": 10,
   "metadata": {},
   "outputs": [],
   "source": [
    "# Instantiate the model\n",
    "model = SimpleModel(input_size, hidden_size, output_size)"
   ]
  },
  {
   "cell_type": "markdown",
   "metadata": {},
   "source": [
    "# Test model"
   ]
  },
  {
   "cell_type": "code",
   "execution_count": 14,
   "metadata": {},
   "outputs": [
    {
     "data": {
      "text/plain": [
       "('input',\n",
       " tensor([[-0.1674,  2.6486,  0.8259,  0.7422,  3.4326, -0.8476,  1.4679, -1.6526,\n",
       "          -0.6042,  1.1872],\n",
       "         [-1.7339, -0.3402,  0.1187,  0.2542,  0.1221,  0.6766,  0.2905,  0.5238,\n",
       "           0.4045,  0.3253],\n",
       "         [-2.5379,  1.3199, -0.8511,  0.6519,  1.9053,  0.8705,  0.3307, -0.0951,\n",
       "           0.7305,  0.5680]]),\n",
       " 'output',\n",
       " tensor([[ 0.1585],\n",
       "         [-0.0206],\n",
       "         [ 0.0089]], grad_fn=<AddmmBackward0>))"
      ]
     },
     "execution_count": 14,
     "metadata": {},
     "output_type": "execute_result"
    }
   ],
   "source": [
    "# Define a sample input tensor to check the model\n",
    "sample_input = torch.randn((3, input_size))  # Batch size of 3\n",
    "output = model(sample_input)\n",
    "\"input\", sample_input, \"output\", output"
   ]
  },
  {
   "cell_type": "markdown",
   "metadata": {},
   "source": [
    "# Export to ONNX"
   ]
  },
  {
   "cell_type": "code",
   "execution_count": 15,
   "metadata": {},
   "outputs": [],
   "source": [
    "model.eval()\n",
    "\n",
    "dummy_input = torch.randn(1, input_size)\n",
    "\n",
    "onnx_path = \"simple_model.onnx\""
   ]
  },
  {
   "cell_type": "code",
   "execution_count": 18,
   "metadata": {},
   "outputs": [
    {
     "name": "stdout",
     "output_type": "stream",
     "text": [
      "Exported graph: graph(%input : Float(1, 10, strides=[10, 1], requires_grad=0, device=cpu),\n",
      "      %fc1.weight : Float(5, 10, strides=[10, 1], requires_grad=1, device=cpu),\n",
      "      %fc1.bias : Float(5, strides=[1], requires_grad=1, device=cpu),\n",
      "      %fc2.weight : Float(1, 5, strides=[5, 1], requires_grad=1, device=cpu),\n",
      "      %fc2.bias : Float(1, strides=[1], requires_grad=1, device=cpu)):\n",
      "  %/fc1/Gemm_output_0 : Float(1, 5, strides=[5, 1], requires_grad=1, device=cpu) = onnx::Gemm[alpha=1., beta=1., transB=1, onnx_name=\"/fc1/Gemm\"](%input, %fc1.weight, %fc1.bias), scope: __main__.SimpleModel::/torch.nn.modules.linear.Linear::fc1 # /home/jakub/PycharmProjects/godot-onnx-demo/python/.venv/lib/python3.11/site-packages/torch/nn/modules/linear.py:114:0\n",
      "  %/gelu/Constant_output_0 : Float(requires_grad=0, device=cpu) = onnx::Constant[value={1.41421}, onnx_name=\"/gelu/Constant\"](), scope: __main__.SimpleModel::/torch.nn.modules.activation.GELU::gelu # /home/jakub/PycharmProjects/godot-onnx-demo/python/.venv/lib/python3.11/site-packages/torch/nn/modules/activation.py:682:0\n",
      "  %/gelu/Div_output_0 : Float(1, 5, strides=[5, 1], device=cpu) = onnx::Div[onnx_name=\"/gelu/Div\"](%/fc1/Gemm_output_0, %/gelu/Constant_output_0), scope: __main__.SimpleModel::/torch.nn.modules.activation.GELU::gelu # /home/jakub/PycharmProjects/godot-onnx-demo/python/.venv/lib/python3.11/site-packages/torch/nn/modules/activation.py:682:0\n",
      "  %/gelu/Erf_output_0 : Float(1, 5, strides=[5, 1], device=cpu) = onnx::Erf[onnx_name=\"/gelu/Erf\"](%/gelu/Div_output_0), scope: __main__.SimpleModel::/torch.nn.modules.activation.GELU::gelu # /home/jakub/PycharmProjects/godot-onnx-demo/python/.venv/lib/python3.11/site-packages/torch/nn/modules/activation.py:682:0\n",
      "  %/gelu/Constant_1_output_0 : Float(requires_grad=0, device=cpu) = onnx::Constant[value={1}, onnx_name=\"/gelu/Constant_1\"](), scope: __main__.SimpleModel::/torch.nn.modules.activation.GELU::gelu # /home/jakub/PycharmProjects/godot-onnx-demo/python/.venv/lib/python3.11/site-packages/torch/nn/modules/activation.py:682:0\n",
      "  %/gelu/Add_output_0 : Float(1, 5, strides=[5, 1], device=cpu) = onnx::Add[onnx_name=\"/gelu/Add\"](%/gelu/Erf_output_0, %/gelu/Constant_1_output_0), scope: __main__.SimpleModel::/torch.nn.modules.activation.GELU::gelu # /home/jakub/PycharmProjects/godot-onnx-demo/python/.venv/lib/python3.11/site-packages/torch/nn/modules/activation.py:682:0\n",
      "  %/gelu/Mul_output_0 : Float(1, 5, strides=[5, 1], device=cpu) = onnx::Mul[onnx_name=\"/gelu/Mul\"](%/fc1/Gemm_output_0, %/gelu/Add_output_0), scope: __main__.SimpleModel::/torch.nn.modules.activation.GELU::gelu # /home/jakub/PycharmProjects/godot-onnx-demo/python/.venv/lib/python3.11/site-packages/torch/nn/modules/activation.py:682:0\n",
      "  %/gelu/Constant_2_output_0 : Float(requires_grad=0, device=cpu) = onnx::Constant[value={0.5}, onnx_name=\"/gelu/Constant_2\"](), scope: __main__.SimpleModel::/torch.nn.modules.activation.GELU::gelu # /home/jakub/PycharmProjects/godot-onnx-demo/python/.venv/lib/python3.11/site-packages/torch/nn/modules/activation.py:682:0\n",
      "  %/gelu/Mul_1_output_0 : Float(1, 5, strides=[5, 1], requires_grad=1, device=cpu) = onnx::Mul[onnx_name=\"/gelu/Mul_1\"](%/gelu/Mul_output_0, %/gelu/Constant_2_output_0), scope: __main__.SimpleModel::/torch.nn.modules.activation.GELU::gelu # /home/jakub/PycharmProjects/godot-onnx-demo/python/.venv/lib/python3.11/site-packages/torch/nn/modules/activation.py:682:0\n",
      "  %output : Float(1, 1, strides=[1, 1], requires_grad=1, device=cpu) = onnx::Gemm[alpha=1., beta=1., transB=1, onnx_name=\"/fc2/Gemm\"](%/gelu/Mul_1_output_0, %fc2.weight, %fc2.bias), scope: __main__.SimpleModel::/torch.nn.modules.linear.Linear::fc2 # /home/jakub/PycharmProjects/godot-onnx-demo/python/.venv/lib/python3.11/site-packages/torch/nn/modules/linear.py:114:0\n",
      "  return (%output)\n",
      "\n"
     ]
    }
   ],
   "source": [
    "torch.onnx.export(\n",
    "    model,\n",
    "    dummy_input,\n",
    "    onnx_path,\n",
    "    input_names=[\"input\"],\n",
    "    output_names=[\"output\"],\n",
    "    verbose=True\n",
    ")"
   ]
  },
  {
   "cell_type": "code",
   "execution_count": 21,
   "metadata": {},
   "outputs": [
    {
     "name": "stderr",
     "output_type": "stream",
     "text": [
      "/home/jakub/PycharmProjects/godot-onnx-demo/python/.venv/lib/python3.11/site-packages/torch/onnx/_internal/exporter.py:130: UserWarning: torch.onnx.dynamo_export only implements opset version 18 for now. If you need to use a different opset version, please register them with register_custom_op.\n",
      "  warnings.warn(\n"
     ]
    }
   ],
   "source": [
    "export_output = torch.onnx.dynamo_export(\n",
    "    model,\n",
    "    dummy_input\n",
    ")\n",
    "\n",
    "export_output.save(\"simple_model_dynamo.onnx\")"
   ]
  }
 ],
 "metadata": {
  "kernelspec": {
   "display_name": ".venv",
   "language": "python",
   "name": "python3"
  },
  "language_info": {
   "codemirror_mode": {
    "name": "ipython",
    "version": 3
   },
   "file_extension": ".py",
   "mimetype": "text/x-python",
   "name": "python",
   "nbconvert_exporter": "python",
   "pygments_lexer": "ipython3",
   "version": "3.11.5"
  }
 },
 "nbformat": 4,
 "nbformat_minor": 2
}
